{
  "nbformat": 4,
  "nbformat_minor": 0,
  "metadata": {
    "colab": {
      "name": "BioLearning.ipynb",
      "provenance": [],
      "authorship_tag": "ABX9TyP1yZo+w9nBv0ThnhjIX6rb",
      "include_colab_link": true
    },
    "kernelspec": {
      "name": "python3",
      "display_name": "Python 3"
    }
  },
  "cells": [
    {
      "cell_type": "markdown",
      "metadata": {
        "id": "view-in-github",
        "colab_type": "text"
      },
      "source": [
        "<a href=\"https://colab.research.google.com/github/VagnerProjects/Machine-Learning/blob/master/BioLearning.ipynb\" target=\"_parent\"><img src=\"https://colab.research.google.com/assets/colab-badge.svg\" alt=\"Open In Colab\"/></a>"
      ]
    },
    {
      "cell_type": "markdown",
      "metadata": {
        "id": "RqdEUoqMrbZi"
      },
      "source": [
        "Instalando as bibliotecas de Machine Learning e BioPython"
      ]
    },
    {
      "cell_type": "code",
      "metadata": {
        "id": "ybsFpDEJN-wd",
        "outputId": "f5e5a4e4-5d3b-4dc4-e6fd-634077a3c6fb",
        "colab": {
          "base_uri": "https://localhost:8080/"
        }
      },
      "source": [
        "!pip install sklearn\n",
        "!pip install biopython"
      ],
      "execution_count": 1,
      "outputs": [
        {
          "output_type": "stream",
          "text": [
            "Requirement already satisfied: sklearn in /usr/local/lib/python3.6/dist-packages (0.0)\n",
            "Requirement already satisfied: scikit-learn in /usr/local/lib/python3.6/dist-packages (from sklearn) (0.22.2.post1)\n",
            "Requirement already satisfied: joblib>=0.11 in /usr/local/lib/python3.6/dist-packages (from scikit-learn->sklearn) (0.17.0)\n",
            "Requirement already satisfied: numpy>=1.11.0 in /usr/local/lib/python3.6/dist-packages (from scikit-learn->sklearn) (1.18.5)\n",
            "Requirement already satisfied: scipy>=0.17.0 in /usr/local/lib/python3.6/dist-packages (from scikit-learn->sklearn) (1.4.1)\n",
            "Collecting biopython\n",
            "\u001b[?25l  Downloading https://files.pythonhosted.org/packages/76/02/8b606c4aa92ff61b5eda71d23b499ab1de57d5e818be33f77b01a6f435a8/biopython-1.78-cp36-cp36m-manylinux1_x86_64.whl (2.3MB)\n",
            "\u001b[K     |████████████████████████████████| 2.3MB 2.7MB/s \n",
            "\u001b[?25hRequirement already satisfied: numpy in /usr/local/lib/python3.6/dist-packages (from biopython) (1.18.5)\n",
            "Installing collected packages: biopython\n",
            "Successfully installed biopython-1.78\n"
          ],
          "name": "stdout"
        }
      ]
    },
    {
      "cell_type": "markdown",
      "metadata": {
        "id": "G9BCfF4irmqD"
      },
      "source": [
        "Importando os módulos"
      ]
    },
    {
      "cell_type": "code",
      "metadata": {
        "id": "0eZDkGK5OI5D"
      },
      "source": [
        "from Bio.Seq import Seq\n",
        "from sklearn.svm import LinearSVC\n",
        "from sklearn import preprocessing\n",
        "from sklearn.metrics import accuracy_score"
      ],
      "execution_count": 81,
      "outputs": []
    },
    {
      "cell_type": "markdown",
      "metadata": {
        "id": "Gyszu6ljrqdJ"
      },
      "source": [
        "Sequencias de DNA"
      ]
    },
    {
      "cell_type": "code",
      "metadata": {
        "id": "xYQfLB7iOeiV"
      },
      "source": [
        "seq_amanda = Seq(\"ATTCGGGCTTTAAAATTTCGCGGTTTGCCAAACGGGTTACCATTTTTGGGCCCCCCAAACCCC\")\n",
        "seq_vagner = Seq(\"TTAGGGCCATGGGGGTTTACCCCAGGTATTGACCCAGGTTTTAGGCAGCCAGTGACAAGGGGG\")"
      ],
      "execution_count": 122,
      "outputs": []
    },
    {
      "cell_type": "markdown",
      "metadata": {
        "id": "URhyAYOurtUX"
      },
      "source": [
        "Transformando as sequencias em listas"
      ]
    },
    {
      "cell_type": "code",
      "metadata": {
        "id": "0y97D22iOlNw"
      },
      "source": [
        "list_seq_amanda = list(seq_amanda)\n",
        "list_seq_vagner = list(seq_vagner)\n"
      ],
      "execution_count": 123,
      "outputs": []
    },
    {
      "cell_type": "markdown",
      "metadata": {
        "id": "Ku_knND2rx0X"
      },
      "source": [
        "Criando o modelo de Machine Learning"
      ]
    },
    {
      "cell_type": "code",
      "metadata": {
        "id": "iOPu6K2_On3c"
      },
      "source": [
        "machine = LinearSVC()"
      ],
      "execution_count": 124,
      "outputs": []
    },
    {
      "cell_type": "markdown",
      "metadata": {
        "id": "IGVbq-_Pr1mq"
      },
      "source": [
        "Codificando as listas de sequencias geneticas em interios para testes"
      ]
    },
    {
      "cell_type": "code",
      "metadata": {
        "id": "b6m5PfozPaAk",
        "outputId": "81cf48b2-88c1-4271-97a9-8a89b073beb6",
        "colab": {
          "base_uri": "https://localhost:8080/"
        }
      },
      "source": [
        "code = preprocessing.LabelEncoder()\n",
        "\n",
        "dna_code_amanda = code.fit_transform(list_seq_amanda)\n",
        "dna_code_vagner = code.fit_transform(list_seq_vagner)\n",
        "list_all_trains = []\n",
        "list_all_trains.append(dna_code_amanda)\n",
        "list_all_trains.append(dna_code_vagner)\n",
        "train_x = list_all_trains\n",
        "train_y = [2,1]\n",
        "train_x\n"
      ],
      "execution_count": 126,
      "outputs": [
        {
          "output_type": "execute_result",
          "data": {
            "text/plain": [
              "[array([0, 3, 3, 1, 2, 2, 2, 1, 3, 3, 3, 0, 0, 0, 0, 3, 3, 3, 1, 2, 1, 2,\n",
              "        2, 3, 3, 3, 2, 1, 1, 0, 0, 0, 1, 2, 2, 2, 3, 3, 0, 1, 1, 0, 3, 3,\n",
              "        3, 3, 3, 2, 2, 2, 1, 1, 1, 1, 1, 1, 0, 0, 0, 1, 1, 1, 1]),\n",
              " array([3, 3, 0, 2, 2, 2, 1, 1, 0, 3, 2, 2, 2, 2, 2, 3, 3, 3, 0, 1, 1, 1,\n",
              "        1, 0, 2, 2, 3, 0, 3, 3, 2, 0, 1, 1, 1, 0, 2, 2, 3, 3, 3, 3, 0, 2,\n",
              "        2, 1, 0, 2, 1, 1, 0, 2, 3, 2, 0, 1, 0, 0, 2, 2, 2, 2, 2])]"
            ]
          },
          "metadata": {
            "tags": []
          },
          "execution_count": 126
        }
      ]
    },
    {
      "cell_type": "markdown",
      "metadata": {
        "id": "uTP0RyW5r9fW"
      },
      "source": [
        "Treinando o modelo de Machine Learning"
      ]
    },
    {
      "cell_type": "code",
      "metadata": {
        "id": "BXp2dRnlP34h",
        "outputId": "bc5973a7-cf5f-4ff4-80f8-a40e8c36bc1a",
        "colab": {
          "base_uri": "https://localhost:8080/"
        }
      },
      "source": [
        "machine.fit(train_x, train_y)"
      ],
      "execution_count": 127,
      "outputs": [
        {
          "output_type": "execute_result",
          "data": {
            "text/plain": [
              "LinearSVC(C=1.0, class_weight=None, dual=True, fit_intercept=True,\n",
              "          intercept_scaling=1, loss='squared_hinge', max_iter=1000,\n",
              "          multi_class='ovr', penalty='l2', random_state=None, tol=0.0001,\n",
              "          verbose=0)"
            ]
          },
          "metadata": {
            "tags": []
          },
          "execution_count": 127
        }
      ]
    },
    {
      "cell_type": "markdown",
      "metadata": {
        "id": "ci9BeLMesBsv"
      },
      "source": [
        "Codificando as listas de sequencias geneticas em ineteiros para testes"
      ]
    },
    {
      "cell_type": "code",
      "metadata": {
        "id": "qYCcH7zVp2n1",
        "outputId": "3e11c1c0-0cc5-4100-d9ba-d6115768e9ee",
        "colab": {
          "base_uri": "https://localhost:8080/"
        }
      },
      "source": [
        "dna_test_x1 = list(\"TTAGGGCCATGGGGGTTTACCCCAGGTATTGACCCAGGTTTTAGGCAGCCAGTGACAAGGGGG\")\n",
        "dna_test_x2 = list(\"ATTCGGGCTTTAAAATTTCGCGGTTTGCCAAACGGGTTACCATTTTTGGGCCCCCCAAACCCC\")\n",
        "dna_code_x1 = code.fit_transform(dna_test_x1)\n",
        "dna_code_x2 = code.fit_transform(dna_test_x2)\n",
        "list_all_tests = []\n",
        "list_all_tests.append(dna_code_x1)\n",
        "list_all_tests.append(dna_code_x2)\n",
        "\n",
        "test_x = list_all_tests\n",
        "train_y = [1,2]\n",
        "test_x"
      ],
      "execution_count": 133,
      "outputs": [
        {
          "output_type": "execute_result",
          "data": {
            "text/plain": [
              "[array([3, 3, 0, 2, 2, 2, 1, 1, 0, 3, 2, 2, 2, 2, 2, 3, 3, 3, 0, 1, 1, 1,\n",
              "        1, 0, 2, 2, 3, 0, 3, 3, 2, 0, 1, 1, 1, 0, 2, 2, 3, 3, 3, 3, 0, 2,\n",
              "        2, 1, 0, 2, 1, 1, 0, 2, 3, 2, 0, 1, 0, 0, 2, 2, 2, 2, 2]),\n",
              " array([0, 3, 3, 1, 2, 2, 2, 1, 3, 3, 3, 0, 0, 0, 0, 3, 3, 3, 1, 2, 1, 2,\n",
              "        2, 3, 3, 3, 2, 1, 1, 0, 0, 0, 1, 2, 2, 2, 3, 3, 0, 1, 1, 0, 3, 3,\n",
              "        3, 3, 3, 2, 2, 2, 1, 1, 1, 1, 1, 1, 0, 0, 0, 1, 1, 1, 1])]"
            ]
          },
          "metadata": {
            "tags": []
          },
          "execution_count": 133
        }
      ]
    },
    {
      "cell_type": "markdown",
      "metadata": {
        "id": "YeImhalltV4E"
      },
      "source": [
        "Previsão do modelo"
      ]
    },
    {
      "cell_type": "code",
      "metadata": {
        "id": "CxaIsKW-SONH",
        "outputId": "5861adeb-0715-48fb-f521-0f8fac412c73",
        "colab": {
          "base_uri": "https://localhost:8080/"
        }
      },
      "source": [
        "predict_y = machine.predict(test_x)\n",
        "predict_y"
      ],
      "execution_count": 134,
      "outputs": [
        {
          "output_type": "execute_result",
          "data": {
            "text/plain": [
              "array([1, 2])"
            ]
          },
          "metadata": {
            "tags": []
          },
          "execution_count": 134
        }
      ]
    },
    {
      "cell_type": "markdown",
      "metadata": {
        "id": "lRrhVJ2gtaYH"
      },
      "source": [
        "Taxa de acerto"
      ]
    },
    {
      "cell_type": "code",
      "metadata": {
        "id": "i64MAkhKW9mo",
        "outputId": "e144e57e-903a-463f-8249-8f5648f509d1",
        "colab": {
          "base_uri": "https://localhost:8080/"
        }
      },
      "source": [
        "result = accuracy_score(train_y, predict_y)\n",
        "print(f\"Taxa de acerto: {int(result*100)}%\")"
      ],
      "execution_count": 135,
      "outputs": [
        {
          "output_type": "stream",
          "text": [
            "Taxa de acerto: 100%\n"
          ],
          "name": "stdout"
        }
      ]
    }
  ]
}