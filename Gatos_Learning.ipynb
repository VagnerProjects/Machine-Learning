{
  "nbformat": 4,
  "nbformat_minor": 0,
  "metadata": {
    "colab": {
      "name": "Gatos Learning.ipynb",
      "provenance": [],
      "authorship_tag": "ABX9TyNMDFHK4iDmhIIRuiHE/IA9",
      "include_colab_link": true
    },
    "kernelspec": {
      "name": "python3",
      "display_name": "Python 3"
    }
  },
  "cells": [
    {
      "cell_type": "markdown",
      "metadata": {
        "id": "view-in-github",
        "colab_type": "text"
      },
      "source": [
        "<a href=\"https://colab.research.google.com/github/VagnerProjects/Machine-Learning/blob/master/Gatos_Learning.ipynb\" target=\"_parent\"><img src=\"https://colab.research.google.com/assets/colab-badge.svg\" alt=\"Open In Colab\"/></a>"
      ]
    },
    {
      "cell_type": "markdown",
      "metadata": {
        "id": "Rv6zOWr4Y9Z2",
        "colab_type": "text"
      },
      "source": [
        "Importação de bibliotecas"
      ]
    },
    {
      "cell_type": "code",
      "metadata": {
        "id": "6BpARtvjsgkE",
        "colab_type": "code",
        "colab": {}
      },
      "source": [
        "from sklearn.metrics import accuracy_score\n",
        "from sklearn.svm import LinearSVC\n",
        "import numpy as np"
      ],
      "execution_count": 29,
      "outputs": []
    },
    {
      "cell_type": "markdown",
      "metadata": {
        "id": "3T8N_PmxZG8-",
        "colab_type": "text"
      },
      "source": [
        "Inicializando o LinearSVC\n"
      ]
    },
    {
      "cell_type": "code",
      "metadata": {
        "id": "9ZnL08-uIHIc",
        "colab_type": "code",
        "colab": {}
      },
      "source": [
        "machine = LinearSVC()"
      ],
      "execution_count": 2,
      "outputs": []
    },
    {
      "cell_type": "markdown",
      "metadata": {
        "id": "5Shbd-GmZPMV",
        "colab_type": "text"
      },
      "source": [
        "Treinando a Máquina"
      ]
    },
    {
      "cell_type": "code",
      "metadata": {
        "id": "N87RSRZZILtm",
        "colab_type": "code",
        "colab": {
          "base_uri": "https://localhost:8080/",
          "height": 90
        },
        "outputId": "71ddc654-7dfb-4c39-81e9-0c90bceedc2a"
      },
      "source": [
        "#1- Gato mais velho\n",
        "#2- Primeiro gato a ser adotado\n",
        "#3- Pelo predominantemente preto\n",
        "#4- Tem mais filhos\n",
        "#5- Próximo à Minnie\n",
        "#6- Comilão\n",
        "#7- Tem olhos verdes\n",
        "#8- Mais gordo\n",
        "#9- Gosta de deitar no berço\n",
        "#10- Arisco\n",
        "#11- Mais sociável\n",
        "#12- Mais de dois anos\n",
        "#13- Mais tranquilo\n",
        "#14- Higiênico\n",
        "\n",
        "#Seção train:\n",
        "#0: Cooky\n",
        "#1: Marshmallow\n",
        "\n",
        "cats = [[1, 0, 1, 0, 1, 1, 1, 1, 1, 0, 0, 1, 1, 1], [0, 1, 0, 1, 1, 0, 1, 0, 1, 1, 1, 1, 0, 1]]\n",
        "\n",
        "train = [0, 1]\n",
        "\n",
        "\n",
        "machine.fit(cats, train)\n"
      ],
      "execution_count": 38,
      "outputs": [
        {
          "output_type": "execute_result",
          "data": {
            "text/plain": [
              "LinearSVC(C=1.0, class_weight=None, dual=True, fit_intercept=True,\n",
              "          intercept_scaling=1, loss='squared_hinge', max_iter=1000,\n",
              "          multi_class='ovr', penalty='l2', random_state=None, tol=0.0001,\n",
              "          verbose=0)"
            ]
          },
          "metadata": {
            "tags": []
          },
          "execution_count": 38
        }
      ]
    },
    {
      "cell_type": "markdown",
      "metadata": {
        "id": "g6Jk1xp_Zd0K",
        "colab_type": "text"
      },
      "source": [
        "Testando a Máquina"
      ]
    },
    {
      "cell_type": "code",
      "metadata": {
        "id": "RtR-UUiiSck4",
        "colab_type": "code",
        "colab": {
          "base_uri": "https://localhost:8080/",
          "height": 72
        },
        "outputId": "bcd44372-daad-4bc8-89d0-a721996f7afa"
      },
      "source": [
        "mistery = [[1, 1, 1, 1, 1, 1, 1, 1, 1, 1, 1, 1, 1, 1], [1, 0, 1, 0, 1, 1, 1, 0, 1, 0, 0, 1, 1, 0]]\n",
        "\n",
        "test = [0,1]\n",
        "\n",
        "result = machine.predict(mistery)\n",
        "\n",
        "score = accuracy_score(test, result, normalize=True)\n",
        "\n",
        "if(np.array_equal(result, [0,0])):\n",
        "  print(\"Os gatos são Cooky e Cooky\")\n",
        "elif(np.array_equal(result, 1,1)):\n",
        "  print(\"Os gatos são Marshmallow e Marshmallow\")\n",
        "elif(np.array_equal(result, [1,0])):\n",
        "  print(\"Os gatos são Marshmallow e Cooky\")\n",
        "else:\n",
        "  print(\"Os gatos são Cooky e Marshmallow\")\n",
        "\n",
        "print()\n",
        "\n",
        "print(f\"Taxa de acerto: {score*100}%\")\n",
        "\n"
      ],
      "execution_count": 39,
      "outputs": [
        {
          "output_type": "stream",
          "text": [
            "Os gatos são Cooky e Cooky\n",
            "\n",
            "Taxa de acerto: 50.0%\n"
          ],
          "name": "stdout"
        }
      ]
    },
    {
      "cell_type": "code",
      "metadata": {
        "id": "FE1KHOchauT2",
        "colab_type": "code",
        "colab": {}
      },
      "source": [
        ""
      ],
      "execution_count": null,
      "outputs": []
    }
  ]
}